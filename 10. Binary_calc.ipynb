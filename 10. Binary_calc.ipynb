{
 "cells": [
  {
   "cell_type": "code",
   "execution_count": 1,
   "id": "d15cb96d",
   "metadata": {},
   "outputs": [],
   "source": [
    "def binary_calc(my_num):\n",
    "    \n",
    "    b_num = []\n",
    "    i = 0\n",
    "    ii = 1\n",
    "    new_num = my_num\n",
    "    old_num = new_num\n",
    "\n",
    "    while new_num > 1:\n",
    "\n",
    "        new_num  = new_num  / 2\n",
    "\n",
    "        if new_num  < 1:\n",
    "            b_num[-i] = 1\n",
    "            new_num_2 = old_num - 2**i\n",
    "        b_num.append(0)\n",
    "        i += 1\n",
    "\n",
    "    while new_num_2 >= 1:\n",
    "\n",
    "        if ii == 1:\n",
    "            old_num = new_num_2\n",
    "\n",
    "        new_num_2  = new_num_2 / 2\n",
    "\n",
    "        if new_num_2  < 1:\n",
    "            new_num_2 = old_num - 2**(ii-1)\n",
    "            old_num = new_num_2\n",
    "            b_num[-ii] = 1\n",
    "            ii = 0\n",
    "\n",
    "        ii += 1\n",
    "        \n",
    "    listToStr = ' '.join([str(elem) for elem in b_num])\n",
    "    print(listToStr)"
   ]
  }
 ],
 "metadata": {
  "kernelspec": {
   "display_name": "Python 3 (ipykernel)",
   "language": "python",
   "name": "python3"
  },
  "language_info": {
   "codemirror_mode": {
    "name": "ipython",
    "version": 3
   },
   "file_extension": ".py",
   "mimetype": "text/x-python",
   "name": "python",
   "nbconvert_exporter": "python",
   "pygments_lexer": "ipython3",
   "version": "3.9.7"
  },
  "widgets": {
   "application/vnd.jupyter.widget-state+json": {
    "state": {},
    "version_major": 2,
    "version_minor": 0
   }
  }
 },
 "nbformat": 4,
 "nbformat_minor": 5
}
